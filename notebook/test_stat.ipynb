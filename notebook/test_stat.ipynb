{
 "cells": [
  {
   "cell_type": "code",
   "execution_count": 1,
   "metadata": {},
   "outputs": [],
   "source": [
    "import pandas as pd\n",
    "import numpy as np\n",
    "import sys\n",
    "import matplotlib.pyplot as plt"
   ]
  },
  {
   "cell_type": "code",
   "execution_count": 2,
   "metadata": {},
   "outputs": [
    {
     "name": "stdout",
     "output_type": "stream",
     "text": [
      "\u001b[31mREADME\u001b[m\u001b[m        \u001b[31mad.csv\u001b[m\u001b[m        \u001b[31mclick_log.csv\u001b[m\u001b[m \u001b[31mstat.ipynb\u001b[m\u001b[m\r\n"
     ]
    }
   ],
   "source": [
    "!ls"
   ]
  },
  {
   "cell_type": "code",
   "execution_count": 3,
   "metadata": {},
   "outputs": [],
   "source": [
    "ads = pd.read_csv('ad.csv')\n",
    "log = pd.read_csv('click_log.csv')"
   ]
  },
  {
   "cell_type": "code",
   "execution_count": 86,
   "metadata": {},
   "outputs": [],
   "source": [
    "merged_log = pd.merge(log, ads, on='creative_id')"
   ]
  },
  {
   "cell_type": "code",
   "execution_count": 85,
   "metadata": {},
   "outputs": [],
   "source": [
    "ads.replace('\\\\N', 0, inplace=True)\n",
    "# ads.fillna(0, inplace=True)\n",
    "ads.product_id = ads.product_id.astype(np.int64)\n",
    "ads.industry = ads.industry.astype(np.int64)"
   ]
  },
  {
   "cell_type": "code",
   "execution_count": 72,
   "metadata": {},
   "outputs": [],
   "source": [
    "user_id = log.user_id.drop_duplicates().values\n",
    "\n",
    "data = np.zeros([len(user_id), 3])\n",
    "df = pd.DataFrame(data,columns=['user_id','predicted_age','predicted_gender'])\n",
    "df['user_id'] = user_id\n",
    "for i in range(1, 11):\n",
    "    for k in [1, 2]:\n",
    "        df['predicted_age'] = i\n",
    "        df['predicted_gender'] = k\n",
    "        df.to_csv('age%d_gender%d.csv' % (i, k), index=False)"
   ]
  },
  {
   "cell_type": "markdown",
   "metadata": {},
   "source": [
    "# Distribution and Submission"
   ]
  },
  {
   "cell_type": "markdown",
   "metadata": {},
   "source": [
    "* age:1, gender:1 score:0.707344\n",
    "* age:2, gender:1 score:0.834598\n",
    "* age:3, gender:1 score:0.893044\n",
    "* age:4, gender:1 score:0.835832\n",
    "* age:5, gender:1 score:0.813974\n",
    "* age:6, gender:1 score:0.781122\n",
    "* age:7, gender:1 score:\n",
    "* age:8, gender:1 score:\n",
    "* age:9, gender:1 score:\n",
    "* age:10, gender:1 score:\n",
    "\n",
    "* age:1, gender:2 score:0.370512\n",
    "* age:2, gender:2 score:0.497766\n",
    "* age:3, gender:2 score:0.556212\n",
    "* age:4, gender:2 score:\n",
    "* age:5, gender:2 score:\n",
    "* age:6, gender:2 score:\n",
    "* age:7, gender:2 score:\n",
    "* age:8, gender:2 score:\n",
    "* age:9, gender:2 score:\n",
    "* age:10, gender:2 score:"
   ]
  },
  {
   "cell_type": "markdown",
   "metadata": {},
   "source": [
    "# Stat"
   ]
  },
  {
   "cell_type": "markdown",
   "metadata": {},
   "source": [
    "### ads.csv: 2618159 rows (containing and more than train dataset)\n",
    "* creative_id - num:2618159(>2481135) main_key\n",
    "* ad_id - num:2618159(>2264190) duplicate\n",
    "* product_id - num:34111(<33273) range:1-44314 exist_null\n",
    "* product_category - range:1-18(same)\n",
    "* advertiser_id - num:52861(>52090) duplicate\n",
    "* industry - num:326(same) range:1-335 exist_null\n",
    "***\n",
    "### click_log.csv: 33585512 rows (another user group)\n",
    "* time - range:1-91(same)\n",
    "* user_id - num:1000000(>900000); range:3000001-4000000\n",
    "* creative_id - num:2618159(>2481135); range:1-4445718 foreign_key -> ads\n",
    "* click_times - range:1-185\n",
    "***\n",
    "### log+ads.csv: 33585512 rows (another user group)\n",
    "* **user_id count** - range:2-2295 strange: 3548147, 3522917, 3206914, 3093561, 3834944, 3648518 (count>10000, focus on *product_category*=[2,18,8]) => age:6,gender:1 REMOVED!"
   ]
  },
  {
   "cell_type": "code",
   "execution_count": 4,
   "metadata": {
    "collapsed": true
   },
   "outputs": [
    {
     "name": "stdout",
     "output_type": "stream",
     "text": [
      "<class 'pandas.core.frame.DataFrame'>\n",
      "RangeIndex: 2618159 entries, 0 to 2618158\n",
      "Data columns (total 6 columns):\n",
      " #   Column            Dtype \n",
      "---  ------            ----- \n",
      " 0   creative_id       int64 \n",
      " 1   ad_id             int64 \n",
      " 2   product_id        object\n",
      " 3   product_category  int64 \n",
      " 4   advertiser_id     int64 \n",
      " 5   industry          object\n",
      "dtypes: int64(4), object(2)\n",
      "memory usage: 119.8+ MB\n"
     ]
    }
   ],
   "source": [
    "ads.info()"
   ]
  },
  {
   "cell_type": "code",
   "execution_count": 5,
   "metadata": {
    "collapsed": true
   },
   "outputs": [
    {
     "name": "stdout",
     "output_type": "stream",
     "text": [
      "<class 'pandas.core.frame.DataFrame'>\n",
      "RangeIndex: 33585512 entries, 0 to 33585511\n",
      "Data columns (total 4 columns):\n",
      " #   Column       Dtype\n",
      "---  ------       -----\n",
      " 0   time         int64\n",
      " 1   user_id      int64\n",
      " 2   creative_id  int64\n",
      " 3   click_times  int64\n",
      "dtypes: int64(4)\n",
      "memory usage: 1.0 GB\n"
     ]
    }
   ],
   "source": [
    "log.info()"
   ]
  },
  {
   "cell_type": "markdown",
   "metadata": {},
   "source": [
    "# Plot"
   ]
  },
  {
   "cell_type": "markdown",
   "metadata": {},
   "source": [
    "### ad.csv"
   ]
  },
  {
   "cell_type": "markdown",
   "metadata": {},
   "source": [
    "* product_category bar(old)"
   ]
  },
  {
   "cell_type": "code",
   "execution_count": 92,
   "metadata": {
    "collapsed": true
   },
   "outputs": [
    {
     "data": {
      "image/png": "[encoded data removed]",
      "text/plain": [
       "<Figure size 432x288 with 1 Axes>"
      ]
     },
     "metadata": {
      "needs_background": "light"
     },
     "output_type": "display_data"
    }
   ],
   "source": [
    "product_categorys = range(1, 19)\n",
    "nums = ads.groupby(['product_category']).count()['industry']\n",
    "plt.bar(product_categorys, nums)\n",
    "plt.show()"
   ]
  },
  {
   "cell_type": "markdown",
   "metadata": {},
   "source": [
    "* product_category bar(new)"
   ]
  },
  {
   "cell_type": "code",
   "execution_count": 27,
   "metadata": {},
   "outputs": [
    {
     "data": {
      "image/png": "[encoded data removed]",
      "text/plain": [
       "<Figure size 432x288 with 1 Axes>"
      ]
     },
     "metadata": {
      "needs_background": "light"
     },
     "output_type": "display_data"
    }
   ],
   "source": [
    "product_categorys = range(1, 19)\n",
    "nums = ads.groupby(['product_category']).count()['industry']\n",
    "plt.bar(product_categorys, nums)\n",
    "plt.show()* product_category bar(old)"
   ]
  },
  {
   "cell_type": "markdown",
   "metadata": {},
   "source": [
    "* industry bar"
   ]
  },
  {
   "cell_type": "code",
   "execution_count": 105,
   "metadata": {
    "collapsed": true
   },
   "outputs": [
    {
     "data": {
      "image/png": "[encoded data removed]",
      "text/plain": [
       "<Figure size 1080x468 with 1 Axes>"
      ]
     },
     "metadata": {
      "needs_background": "light"
     },
     "output_type": "display_data"
    }
   ],
   "source": [
    "industrys = ads.groupby(['industry']).count()['product_category'].index\n",
    "nums = ads.groupby(['industry']).count()['product_category']\n",
    "plt.figure(figsize=(15, 6.5))\n",
    "plt.bar(industrys, nums)\n",
    "plt.show()"
   ]
  },
  {
   "cell_type": "code",
   "execution_count": 28,
   "metadata": {},
   "outputs": [
    {
     "data": {
      "image/png": "[encoded data removed]",
      "text/plain": [
       "<Figure size 1080x468 with 1 Axes>"
      ]
     },
     "metadata": {
      "needs_background": "light"
     },
     "output_type": "display_data"
    }
   ],
   "source": [
    "industrys = ads.groupby(['industry']).count()['product_category'].index\n",
    "nums = ads.groupby(['industry']).count()['product_category']\n",
    "plt.figure(figsize=(15, 6.5))\n",
    "plt.bar(industrys, nums)\n",
    "plt.show()"
   ]
  },
  {
   "cell_type": "markdown",
   "metadata": {},
   "source": [
    "### click_log.csv"
   ]
  },
  {
   "cell_type": "markdown",
   "metadata": {},
   "source": [
    "* time bar(old)"
   ]
  },
  {
   "cell_type": "code",
   "execution_count": 110,
   "metadata": {
    "collapsed": true
   },
   "outputs": [
    {
     "data": {
      "image/png": "[encoded data removed]",
      "text/plain": [
       "<Figure size 1080x468 with 1 Axes>"
      ]
     },
     "metadata": {
      "needs_background": "light"
     },
     "output_type": "display_data"
    }
   ],
   "source": [
    "times = log.groupby(['time']).count()['click_times'].index\n",
    "nums = log.groupby(['time']).count()['click_times']\n",
    "plt.figure(figsize=(15, 6.5))\n",
    "plt.bar(times, nums)\n",
    "plt.show()"
   ]
  },
  {
   "cell_type": "markdown",
   "metadata": {},
   "source": [
    "* time bar(new)"
   ]
  },
  {
   "cell_type": "code",
   "execution_count": 31,
   "metadata": {},
   "outputs": [
    {
     "data": {
      "image/png": "[encoded data removed]",
      "text/plain": [
       "<Figure size 1080x468 with 1 Axes>"
      ]
     },
     "metadata": {
      "needs_background": "light"
     },
     "output_type": "display_data"
    }
   ],
   "source": [
    "times = log.groupby(['time']).count()['click_times'].index\n",
    "nums = log.groupby(['time']).count()['click_times']\n",
    "plt.figure(figsize=(15, 6.5))\n",
    "plt.bar(times, nums)\n",
    "plt.show()* time bar"
   ]
  },
  {
   "cell_type": "markdown",
   "metadata": {},
   "source": [
    "* click_times bar(old)"
   ]
  },
  {
   "cell_type": "code",
   "execution_count": 113,
   "metadata": {
    "collapsed": true
   },
   "outputs": [
    {
     "data": {
      "text/plain": [
       "click_times\n",
       "1      28426543\n",
       "2       1507449\n",
       "3         90356\n",
       "4         43047\n",
       "5          7507\n",
       "6          3512\n",
       "7          1529\n",
       "8          1486\n",
       "9           452\n",
       "10          270\n",
       "11          172\n",
       "12          116\n",
       "13           76\n",
       "14           62\n",
       "15           36\n",
       "16           34\n",
       "17           22\n",
       "18           21\n",
       "19           10\n",
       "20           13\n",
       "21           17\n",
       "22            5\n",
       "23            4\n",
       "24            3\n",
       "25            2\n",
       "26            3\n",
       "27            3\n",
       "28            1\n",
       "29            2\n",
       "30            3\n",
       "32            3\n",
       "33            2\n",
       "34            1\n",
       "35            1\n",
       "36            1\n",
       "37            2\n",
       "43            1\n",
       "44            1\n",
       "50            1\n",
       "67            1\n",
       "152           1\n",
       "Name: time, dtype: int64"
      ]
     },
     "execution_count": 113,
     "metadata": {},
     "output_type": "execute_result"
    }
   ],
   "source": [
    "log.groupby(['click_times']).count()['time']"
   ]
  },
  {
   "cell_type": "code",
   "execution_count": 112,
   "metadata": {
    "collapsed": true
   },
   "outputs": [
    {
     "data": {
      "image/png": "[encoded data removed]",
      "text/plain": [
       "<Figure size 432x288 with 1 Axes>"
      ]
     },
     "metadata": {
      "needs_background": "light"
     },
     "output_type": "display_data"
    }
   ],
   "source": [
    "click_times = log.groupby(['click_times']).count()['time'].index\n",
    "nums = log.groupby(['click_times']).count()['time']\n",
    "plt.bar(click_times, nums)\n",
    "plt.show()"
   ]
  },
  {
   "cell_type": "markdown",
   "metadata": {},
   "source": [
    "* click_times bar(new)"
   ]
  },
  {
   "cell_type": "code",
   "execution_count": 53,
   "metadata": {
    "scrolled": true
   },
   "outputs": [
    {
     "data": {
      "text/plain": [
       "click_times\n",
       "41     7\n",
       "42     8\n",
       "43     5\n",
       "44     1\n",
       "45     3\n",
       "46     7\n",
       "47     6\n",
       "48     6\n",
       "49     3\n",
       "50     3\n",
       "51     2\n",
       "52     2\n",
       "53     4\n",
       "54     6\n",
       "55     2\n",
       "57     2\n",
       "58     2\n",
       "59     3\n",
       "60     1\n",
       "61     4\n",
       "65     2\n",
       "66     2\n",
       "67     2\n",
       "69     1\n",
       "72     3\n",
       "73     2\n",
       "76     5\n",
       "77     2\n",
       "79     3\n",
       "80     3\n",
       "82     1\n",
       "84     2\n",
       "87     2\n",
       "88     1\n",
       "90     1\n",
       "94     1\n",
       "96     1\n",
       "97     2\n",
       "103    2\n",
       "106    1\n",
       "108    1\n",
       "113    1\n",
       "119    1\n",
       "120    1\n",
       "121    1\n",
       "122    1\n",
       "124    1\n",
       "127    2\n",
       "133    1\n",
       "146    1\n",
       "158    1\n",
       "167    1\n",
       "185    1\n",
       "Name: time, dtype: int64"
      ]
     },
     "execution_count": 53,
     "metadata": {},
     "output_type": "execute_result"
    }
   ],
   "source": [
    "log.groupby(['click_times']).count()['time'].iloc[40:]"
   ]
  },
  {
   "cell_type": "code",
   "execution_count": 33,
   "metadata": {},
   "outputs": [
    {
     "data": {
      "image/png": "[encoded data removed]",
      "text/plain": [
       "<Figure size 432x288 with 1 Axes>"
      ]
     },
     "metadata": {
      "needs_background": "light"
     },
     "output_type": "display_data"
    }
   ],
   "source": [
    "click_times = log.groupby(['click_times']).count()['time'].index\n",
    "nums = log.groupby(['click_times']).count()['time']\n",
    "plt.bar(click_times, nums)\n",
    "plt.show()"
   ]
  },
  {
   "cell_type": "markdown",
   "metadata": {},
   "source": [
    "### click_log + ad"
   ]
  },
  {
   "cell_type": "code",
   "execution_count": 87,
   "metadata": {
    "scrolled": true
   },
   "outputs": [
    {
     "name": "stdout",
     "output_type": "stream",
     "text": [
      "<class 'pandas.core.frame.DataFrame'>\n",
      "Int64Index: 33585512 entries, 0 to 33585511\n",
      "Data columns (total 9 columns):\n",
      " #   Column            Dtype\n",
      "---  ------            -----\n",
      " 0   time              int64\n",
      " 1   user_id           int64\n",
      " 2   creative_id       int64\n",
      " 3   click_times       int64\n",
      " 4   ad_id             int64\n",
      " 5   product_id        int64\n",
      " 6   product_category  int64\n",
      " 7   advertiser_id     int64\n",
      " 8   industry          int64\n",
      "dtypes: int64(9)\n",
      "memory usage: 2.5 GB\n"
     ]
    }
   ],
   "source": [
    "merged_log.info()"
   ]
  },
  {
   "cell_type": "code",
   "execution_count": 76,
   "metadata": {
    "collapsed": true
   },
   "outputs": [
    {
     "data": {
      "text/plain": [
       "{2,\n",
       " 3,\n",
       " 4,\n",
       " 5,\n",
       " 6,\n",
       " 7,\n",
       " 8,\n",
       " 9,\n",
       " 10,\n",
       " 11,\n",
       " 12,\n",
       " 13,\n",
       " 14,\n",
       " 15,\n",
       " 16,\n",
       " 17,\n",
       " 18,\n",
       " 19,\n",
       " 20,\n",
       " 21,\n",
       " 22,\n",
       " 23,\n",
       " 24,\n",
       " 25,\n",
       " 26,\n",
       " 27,\n",
       " 28,\n",
       " 29,\n",
       " 30,\n",
       " 31,\n",
       " 32,\n",
       " 33,\n",
       " 34,\n",
       " 35,\n",
       " 36,\n",
       " 37,\n",
       " 38,\n",
       " 39,\n",
       " 40,\n",
       " 41,\n",
       " 42,\n",
       " 43,\n",
       " 44,\n",
       " 45,\n",
       " 46,\n",
       " 47,\n",
       " 48,\n",
       " 49,\n",
       " 50,\n",
       " 51,\n",
       " 52,\n",
       " 53,\n",
       " 54,\n",
       " 55,\n",
       " 56,\n",
       " 57,\n",
       " 58,\n",
       " 59,\n",
       " 60,\n",
       " 61,\n",
       " 62,\n",
       " 63,\n",
       " 64,\n",
       " 65,\n",
       " 66,\n",
       " 67,\n",
       " 68,\n",
       " 69,\n",
       " 70,\n",
       " 71,\n",
       " 72,\n",
       " 73,\n",
       " 74,\n",
       " 75,\n",
       " 76,\n",
       " 77,\n",
       " 78,\n",
       " 79,\n",
       " 80,\n",
       " 81,\n",
       " 82,\n",
       " 83,\n",
       " 84,\n",
       " 85,\n",
       " 86,\n",
       " 87,\n",
       " 88,\n",
       " 89,\n",
       " 90,\n",
       " 91,\n",
       " 92,\n",
       " 93,\n",
       " 94,\n",
       " 95,\n",
       " 96,\n",
       " 97,\n",
       " 98,\n",
       " 99,\n",
       " 100,\n",
       " 101,\n",
       " 102,\n",
       " 103,\n",
       " 104,\n",
       " 105,\n",
       " 106,\n",
       " 107,\n",
       " 108,\n",
       " 109,\n",
       " 110,\n",
       " 111,\n",
       " 112,\n",
       " 113,\n",
       " 114,\n",
       " 115,\n",
       " 116,\n",
       " 117,\n",
       " 118,\n",
       " 119,\n",
       " 120,\n",
       " 121,\n",
       " 122,\n",
       " 123,\n",
       " 124,\n",
       " 125,\n",
       " 126,\n",
       " 127,\n",
       " 128,\n",
       " 129,\n",
       " 130,\n",
       " 131,\n",
       " 132,\n",
       " 133,\n",
       " 134,\n",
       " 135,\n",
       " 136,\n",
       " 137,\n",
       " 138,\n",
       " 139,\n",
       " 140,\n",
       " 141,\n",
       " 142,\n",
       " 143,\n",
       " 144,\n",
       " 145,\n",
       " 146,\n",
       " 147,\n",
       " 148,\n",
       " 149,\n",
       " 150,\n",
       " 151,\n",
       " 152,\n",
       " 153,\n",
       " 154,\n",
       " 155,\n",
       " 156,\n",
       " 157,\n",
       " 158,\n",
       " 159,\n",
       " 160,\n",
       " 161,\n",
       " 162,\n",
       " 163,\n",
       " 164,\n",
       " 165,\n",
       " 166,\n",
       " 167,\n",
       " 168,\n",
       " 169,\n",
       " 170,\n",
       " 171,\n",
       " 172,\n",
       " 173,\n",
       " 174,\n",
       " 175,\n",
       " 176,\n",
       " 177,\n",
       " 178,\n",
       " 179,\n",
       " 180,\n",
       " 181,\n",
       " 182,\n",
       " 183,\n",
       " 184,\n",
       " 185,\n",
       " 186,\n",
       " 187,\n",
       " 188,\n",
       " 189,\n",
       " 190,\n",
       " 191,\n",
       " 192,\n",
       " 193,\n",
       " 194,\n",
       " 195,\n",
       " 196,\n",
       " 197,\n",
       " 198,\n",
       " 199,\n",
       " 200,\n",
       " 201,\n",
       " 202,\n",
       " 203,\n",
       " 204,\n",
       " 205,\n",
       " 206,\n",
       " 207,\n",
       " 208,\n",
       " 209,\n",
       " 210,\n",
       " 211,\n",
       " 212,\n",
       " 213,\n",
       " 214,\n",
       " 215,\n",
       " 216,\n",
       " 217,\n",
       " 218,\n",
       " 219,\n",
       " 220,\n",
       " 221,\n",
       " 222,\n",
       " 223,\n",
       " 224,\n",
       " 225,\n",
       " 226,\n",
       " 227,\n",
       " 228,\n",
       " 229,\n",
       " 230,\n",
       " 231,\n",
       " 232,\n",
       " 233,\n",
       " 234,\n",
       " 235,\n",
       " 236,\n",
       " 237,\n",
       " 238,\n",
       " 239,\n",
       " 240,\n",
       " 241,\n",
       " 242,\n",
       " 243,\n",
       " 244,\n",
       " 245,\n",
       " 246,\n",
       " 247,\n",
       " 248,\n",
       " 249,\n",
       " 250,\n",
       " 251,\n",
       " 252,\n",
       " 253,\n",
       " 254,\n",
       " 255,\n",
       " 256,\n",
       " 257,\n",
       " 258,\n",
       " 259,\n",
       " 260,\n",
       " 261,\n",
       " 262,\n",
       " 263,\n",
       " 264,\n",
       " 265,\n",
       " 266,\n",
       " 267,\n",
       " 268,\n",
       " 269,\n",
       " 270,\n",
       " 271,\n",
       " 272,\n",
       " 273,\n",
       " 274,\n",
       " 275,\n",
       " 276,\n",
       " 277,\n",
       " 278,\n",
       " 279,\n",
       " 280,\n",
       " 281,\n",
       " 282,\n",
       " 283,\n",
       " 284,\n",
       " 285,\n",
       " 286,\n",
       " 287,\n",
       " 288,\n",
       " 289,\n",
       " 290,\n",
       " 291,\n",
       " 292,\n",
       " 293,\n",
       " 294,\n",
       " 295,\n",
       " 296,\n",
       " 297,\n",
       " 298,\n",
       " 299,\n",
       " 300,\n",
       " 301,\n",
       " 302,\n",
       " 303,\n",
       " 304,\n",
       " 305,\n",
       " 306,\n",
       " 307,\n",
       " 308,\n",
       " 309,\n",
       " 310,\n",
       " 311,\n",
       " 312,\n",
       " 313,\n",
       " 314,\n",
       " 315,\n",
       " 316,\n",
       " 317,\n",
       " 318,\n",
       " 319,\n",
       " 320,\n",
       " 321,\n",
       " 322,\n",
       " 323,\n",
       " 324,\n",
       " 325,\n",
       " 326,\n",
       " 327,\n",
       " 328,\n",
       " 329,\n",
       " 330,\n",
       " 331,\n",
       " 332,\n",
       " 333,\n",
       " 334,\n",
       " 335,\n",
       " 336,\n",
       " 337,\n",
       " 338,\n",
       " 339,\n",
       " 340,\n",
       " 341,\n",
       " 342,\n",
       " 343,\n",
       " 344,\n",
       " 345,\n",
       " 346,\n",
       " 347,\n",
       " 348,\n",
       " 349,\n",
       " 350,\n",
       " 351,\n",
       " 352,\n",
       " 353,\n",
       " 354,\n",
       " 355,\n",
       " 356,\n",
       " 357,\n",
       " 358,\n",
       " 359,\n",
       " 360,\n",
       " 361,\n",
       " 362,\n",
       " 363,\n",
       " 364,\n",
       " 365,\n",
       " 366,\n",
       " 367,\n",
       " 368,\n",
       " 369,\n",
       " 370,\n",
       " 371,\n",
       " 373,\n",
       " 374,\n",
       " 375,\n",
       " 376,\n",
       " 377,\n",
       " 378,\n",
       " 379,\n",
       " 380,\n",
       " 381,\n",
       " 382,\n",
       " 383,\n",
       " 384,\n",
       " 385,\n",
       " 386,\n",
       " 387,\n",
       " 388,\n",
       " 389,\n",
       " 390,\n",
       " 391,\n",
       " 392,\n",
       " 393,\n",
       " 394,\n",
       " 395,\n",
       " 396,\n",
       " 397,\n",
       " 398,\n",
       " 399,\n",
       " 400,\n",
       " 401,\n",
       " 402,\n",
       " 403,\n",
       " 404,\n",
       " 405,\n",
       " 406,\n",
       " 407,\n",
       " 408,\n",
       " 409,\n",
       " 410,\n",
       " 411,\n",
       " 412,\n",
       " 413,\n",
       " 414,\n",
       " 415,\n",
       " 416,\n",
       " 418,\n",
       " 419,\n",
       " 420,\n",
       " 421,\n",
       " 422,\n",
       " 424,\n",
       " 425,\n",
       " 426,\n",
       " 427,\n",
       " 429,\n",
       " 431,\n",
       " 432,\n",
       " 433,\n",
       " 434,\n",
       " 435,\n",
       " 437,\n",
       " 438,\n",
       " 439,\n",
       " 440,\n",
       " 441,\n",
       " 442,\n",
       " 444,\n",
       " 445,\n",
       " 446,\n",
       " 447,\n",
       " 448,\n",
       " 449,\n",
       " 450,\n",
       " 453,\n",
       " 454,\n",
       " 455,\n",
       " 456,\n",
       " 457,\n",
       " 458,\n",
       " 460,\n",
       " 461,\n",
       " 462,\n",
       " 463,\n",
       " 464,\n",
       " 467,\n",
       " 469,\n",
       " 470,\n",
       " 471,\n",
       " 472,\n",
       " 473,\n",
       " 474,\n",
       " 475,\n",
       " 476,\n",
       " 477,\n",
       " 478,\n",
       " 479,\n",
       " 481,\n",
       " 483,\n",
       " 484,\n",
       " 489,\n",
       " 490,\n",
       " 492,\n",
       " 493,\n",
       " 494,\n",
       " 495,\n",
       " 496,\n",
       " 498,\n",
       " 500,\n",
       " 502,\n",
       " 503,\n",
       " 506,\n",
       " 510,\n",
       " 512,\n",
       " 514,\n",
       " 517,\n",
       " 519,\n",
       " 520,\n",
       " 521,\n",
       " 522,\n",
       " 523,\n",
       " 526,\n",
       " 527,\n",
       " 528,\n",
       " 532,\n",
       " 539,\n",
       " 541,\n",
       " 542,\n",
       " 543,\n",
       " 544,\n",
       " 546,\n",
       " 547,\n",
       " 550,\n",
       " 552,\n",
       " 554,\n",
       " 557,\n",
       " 558,\n",
       " 559,\n",
       " 561,\n",
       " 562,\n",
       " 563,\n",
       " 565,\n",
       " 570,\n",
       " 575,\n",
       " 578,\n",
       " 580,\n",
       " 582,\n",
       " 585,\n",
       " 592,\n",
       " 593,\n",
       " 594,\n",
       " 598,\n",
       " 601,\n",
       " 602,\n",
       " 608,\n",
       " 613,\n",
       " 619,\n",
       " 623,\n",
       " 627,\n",
       " 631,\n",
       " 632,\n",
       " 633,\n",
       " 635,\n",
       " 639,\n",
       " 642,\n",
       " 645,\n",
       " 652,\n",
       " 654,\n",
       " 656,\n",
       " 658,\n",
       " 665,\n",
       " 671,\n",
       " 678,\n",
       " 689,\n",
       " 690,\n",
       " 696,\n",
       " 711,\n",
       " 714,\n",
       " 715,\n",
       " 726,\n",
       " 728,\n",
       " 731,\n",
       " 737,\n",
       " 739,\n",
       " 741,\n",
       " 748,\n",
       " 752,\n",
       " 771,\n",
       " 776,\n",
       " 777,\n",
       " 798,\n",
       " 812,\n",
       " 816,\n",
       " 820,\n",
       " 829,\n",
       " 882,\n",
       " 895,\n",
       " 904,\n",
       " 908,\n",
       " 912,\n",
       " 920,\n",
       " 926,\n",
       " 945,\n",
       " 994,\n",
       " 997,\n",
       " 1052,\n",
       " 1065,\n",
       " 1066,\n",
       " 1082,\n",
       " 1120,\n",
       " 1180,\n",
       " 1210,\n",
       " 1211,\n",
       " 1296,\n",
       " 1532,\n",
       " 1577,\n",
       " 1585,\n",
       " 2064,\n",
       " 2108,\n",
       " 2295,\n",
       " 10318,\n",
       " 11116,\n",
       " 18178,\n",
       " 25506,\n",
       " 26609,\n",
       " 113974}"
      ]
     },
     "execution_count": 76,
     "metadata": {},
     "output_type": "execute_result"
    }
   ],
   "source": [
    "set(log.groupby(['user_id']).count()['creative_id'])"
   ]
  },
  {
   "cell_type": "code",
   "execution_count": 140,
   "metadata": {},
   "outputs": [
    {
     "data": {
      "text/plain": [
       "user_id\n",
       "3648518    113974\n",
       "Name: creative_id, dtype: int64"
      ]
     },
     "execution_count": 140,
     "metadata": {},
     "output_type": "execute_result"
    }
   ],
   "source": [
    "log.groupby(['user_id']).count()['creative_id'][log.groupby(['user_id']).count()['creative_id'] == 113974]\n"
   ]
  },
  {
   "cell_type": "code",
   "execution_count": 169,
   "metadata": {},
   "outputs": [
    {
     "data": {
      "text/plain": [
       "creative_id\n",
       "291979     45\n",
       "304118     35\n",
       "1145367    32\n",
       "7400       31\n",
       "430586     27\n",
       "13069      25\n",
       "24333      24\n",
       "71691      23\n",
       "39714      22\n",
       "415805     19\n",
       "96192      19\n",
       "133060     18\n",
       "157148     18\n",
       "2085566    18\n",
       "40060      18\n",
       "670        18\n",
       "304111     18\n",
       "70933      17\n",
       "26284      17\n",
       "147339     16\n",
       "Name: time, dtype: int64"
      ]
     },
     "execution_count": 169,
     "metadata": {},
     "output_type": "execute_result"
    }
   ],
   "source": [
    "merged_log[merged_log.user_id == 3548147].groupby(['creative_id']).count()['time'].sort_values(ascending=False).iloc[:20]\n"
   ]
  },
  {
   "cell_type": "code",
   "execution_count": 176,
   "metadata": {},
   "outputs": [
    {
     "data": {
      "text/plain": [
       "creative_id\n",
       "7400       42\n",
       "304118     36\n",
       "670        31\n",
       "122388     28\n",
       "13069      27\n",
       "40060      27\n",
       "147339     25\n",
       "55527      25\n",
       "39714      24\n",
       "1145367    24\n",
       "569079     23\n",
       "24333      22\n",
       "391390     20\n",
       "12236      20\n",
       "157148     20\n",
       "96192      20\n",
       "309573     20\n",
       "2085566    19\n",
       "102153     19\n",
       "6417       18\n",
       "Name: time, dtype: int64"
      ]
     },
     "execution_count": 176,
     "metadata": {},
     "output_type": "execute_result"
    }
   ],
   "source": [
    "merged_log[merged_log.user_id == 3522917].groupby(['creative_id']).count()['time'].sort_values(ascending=False).iloc[:20]\n"
   ]
  },
  {
   "cell_type": "code",
   "execution_count": 171,
   "metadata": {
    "collapsed": true
   },
   "outputs": [
    {
     "data": {
      "text/plain": [
       "creative_id\n",
       "7400       48\n",
       "304118     46\n",
       "13069      43\n",
       "1145367    42\n",
       "40060      39\n",
       "291979     39\n",
       "39714      37\n",
       "96192      35\n",
       "670        35\n",
       "157148     33\n",
       "430586     32\n",
       "133060     31\n",
       "24333      29\n",
       "569079     28\n",
       "782930     28\n",
       "32571      27\n",
       "147339     27\n",
       "421447     26\n",
       "70933      25\n",
       "71691      24\n",
       "Name: time, dtype: int64"
      ]
     },
     "execution_count": 171,
     "metadata": {},
     "output_type": "execute_result"
    }
   ],
   "source": [
    "merged_log[merged_log.user_id == 3206914].groupby(['creative_id']).count()['time'].sort_values(ascending=False).iloc[:20]\n"
   ]
  },
  {
   "cell_type": "code",
   "execution_count": 172,
   "metadata": {
    "collapsed": true
   },
   "outputs": [
    {
     "data": {
      "text/plain": [
       "creative_id\n",
       "304118     58\n",
       "7400       56\n",
       "291979     53\n",
       "1145367    51\n",
       "13069      47\n",
       "670        39\n",
       "430586     39\n",
       "39714      38\n",
       "24333      38\n",
       "32571      36\n",
       "70933      35\n",
       "6417       33\n",
       "96192      32\n",
       "243181     31\n",
       "1037290    31\n",
       "40060      31\n",
       "292026     30\n",
       "71691      30\n",
       "133060     30\n",
       "9148       29\n",
       "569079     28\n",
       "14309      28\n",
       "147339     28\n",
       "309573     27\n",
       "754390     27\n",
       "960671     26\n",
       "53083      26\n",
       "32572      26\n",
       "114074     26\n",
       "12838      26\n",
       "244888     26\n",
       "57976      25\n",
       "961938     25\n",
       "625439     25\n",
       "262543     25\n",
       "157148     25\n",
       "1073278    24\n",
       "119460     24\n",
       "391390     24\n",
       "421447     24\n",
       "Name: time, dtype: int64"
      ]
     },
     "execution_count": 172,
     "metadata": {},
     "output_type": "execute_result"
    }
   ],
   "source": [
    "merged_log[merged_log.user_id == 3093561].groupby(['creative_id']).count()['time'].sort_values(ascending=False).iloc[:40]\n"
   ]
  },
  {
   "cell_type": "code",
   "execution_count": 173,
   "metadata": {
    "collapsed": true
   },
   "outputs": [
    {
     "data": {
      "text/plain": [
       "creative_id\n",
       "13069      88\n",
       "7400       83\n",
       "70933      79\n",
       "291979     76\n",
       "304118     74\n",
       "133060     73\n",
       "304111     70\n",
       "754390     68\n",
       "53083      67\n",
       "670        67\n",
       "71691      67\n",
       "102153     65\n",
       "55527      65\n",
       "783522     64\n",
       "1145367    63\n",
       "243181     63\n",
       "214927     63\n",
       "66299      63\n",
       "415805     62\n",
       "37605      62\n",
       "24333      61\n",
       "430586     61\n",
       "782930     61\n",
       "421447     61\n",
       "292026     60\n",
       "309573     59\n",
       "57976      57\n",
       "32571      55\n",
       "157148     55\n",
       "114074     55\n",
       "12838      54\n",
       "147339     53\n",
       "71692      52\n",
       "9148       52\n",
       "1071851    52\n",
       "15953      51\n",
       "7823       51\n",
       "599699     51\n",
       "9109       50\n",
       "481926     50\n",
       "Name: time, dtype: int64"
      ]
     },
     "execution_count": 173,
     "metadata": {},
     "output_type": "execute_result"
    }
   ],
   "source": [
    "merged_log[merged_log.user_id == 3648518].groupby(['creative_id']).count()['time'].sort_values(ascending=False).iloc[:40]\n"
   ]
  }
 ],
 "metadata": {
  "kernelspec": {
   "display_name": "Python 3",
   "language": "python",
   "name": "python3"
  },
  "language_info": {
   "codemirror_mode": {
    "name": "ipython",
    "version": 3
   },
   "file_extension": ".py",
   "mimetype": "text/x-python",
   "name": "python",
   "nbconvert_exporter": "python",
   "pygments_lexer": "ipython3",
   "version": "3.6.10"
  }
 },
 "nbformat": 4,
 "nbformat_minor": 4
}
